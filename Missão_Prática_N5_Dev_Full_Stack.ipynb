{
  "nbformat": 4,
  "nbformat_minor": 0,
  "metadata": {
    "colab": {
      "provenance": [],
      "authorship_tag": "ABX9TyPJXVoSu4QHiqU8tOJSrMd9",
      "include_colab_link": true
    },
    "kernelspec": {
      "name": "python3",
      "display_name": "Python 3"
    },
    "language_info": {
      "name": "python"
    }
  },
  "cells": [
    {
      "cell_type": "markdown",
      "metadata": {
        "id": "view-in-github",
        "colab_type": "text"
      },
      "source": [
        "<a href=\"https://colab.research.google.com/github/adventureandre/Miss-o_Pr-tica_N5_Dev_Full_Stack/blob/main/Miss%C3%A3o_Pr%C3%A1tica_N5_Dev_Full_Stack.ipynb\" target=\"_parent\"><img src=\"https://colab.research.google.com/assets/colab-badge.svg\" alt=\"Open In Colab\"/></a>"
      ]
    },
    {
      "cell_type": "markdown",
      "source": [
        "Gerador de dados Faker"
      ],
      "metadata": {
        "id": "XkKgP7L53j02"
      }
    },
    {
      "cell_type": "code",
      "execution_count": null,
      "metadata": {
        "id": "BzaMXHDm2OyF"
      },
      "outputs": [],
      "source": [
        "import matplotlib.pyplot as plt\n",
        "from faker import Faker\n",
        "\n",
        "#Gera os dados falsos\n",
        "class GerarFaker:\n",
        "    def gerador(self, quantidade):\n",
        "        f = Faker('pt_BR')\n",
        "        dados = {}\n",
        "        for i in range(quantidade):\n",
        "            dados[f.name()] = f.random_int(1, 10)\n",
        "        return dados"
      ]
    },
    {
      "cell_type": "markdown",
      "source": [
        "Gerador de arquivo txt"
      ],
      "metadata": {
        "id": "BbZ88uCU3aVd"
      }
    },
    {
      "cell_type": "code",
      "source": [
        "#Cria o arquivo txt\n",
        "class CriarTxt:\n",
        "    def __init__(self, lista, arquivo):\n",
        "        self.lista = lista\n",
        "        self.arquivo = arquivo\n",
        "        self.salvarTxt()\n",
        "\n",
        "    def salvarTxt(self):\n",
        "\n",
        "        arquivo = open(self.arquivo, \"a\")\n",
        "\n",
        "        for keys, value in self.lista.items():\n",
        "            arquivo.write(f\"\\n{keys} = {value}\")\n",
        "\n",
        "        arquivo.close()"
      ],
      "metadata": {
        "id": "p6GwxWkM3P8T"
      },
      "execution_count": null,
      "outputs": []
    },
    {
      "cell_type": "markdown",
      "source": [
        "Gerador de Graficos"
      ],
      "metadata": {
        "id": "nwwC2g4Q3tH8"
      }
    },
    {
      "cell_type": "code",
      "source": [
        "#Gera os graficos \n",
        "class GerarGrafico:\n",
        "    def __init__(self,arquivo):\n",
        "        self.arquivo = arquivo\n",
        "        self.abrirArquivo()\n",
        "\n",
        "    #Abre o arquivo\n",
        "    def abrirArquivo(self):\n",
        "        try:\n",
        "            abrirarquivo = open(self.arquivo)\n",
        "            lista = abrirarquivo.read().splitlines()\n",
        "            self.criarGrafico(lista)\n",
        "        except FileNotFoundError as erro:\n",
        "            print(\"O arquivo nao existe!\")\n",
        "\n",
        "    #padroes do grafico\n",
        "    def padrao_do_grafico(self):\n",
        "        plt.xlabel('Pontuações')\n",
        "        plt.ylabel('Probabilidade')\n",
        "        plt.title('Histograma da Pontuaçães')\n",
        "\n",
        "    #cria o grafico\n",
        "    def criarGrafico(self,lista):\n",
        "        self.padrao_do_grafico()\n",
        "\n",
        "        lista = list(filter(lambda x: x != '', lista))\n",
        "        x=[]\n",
        "        for items in lista:\n",
        "            sublista = (items.split(\"=\"))\n",
        "            x.append(int(sublista[1]))\n",
        "        plt.hist(x)\n",
        "\n",
        "        plt.show()"
      ],
      "metadata": {
        "id": "ARCTMsty3WX3"
      },
      "execution_count": null,
      "outputs": []
    },
    {
      "cell_type": "markdown",
      "source": [
        "Entrada de Dados"
      ],
      "metadata": {
        "id": "zzp-KzCL35LQ"
      }
    },
    {
      "cell_type": "code",
      "source": [
        "# Gerar o faker\n",
        "dadosfaker = GerarFaker()\n",
        "\n",
        "# Define a quantidade de dados a ser criado e Carrega os dados na variavel\n",
        "criartxt = dadosfaker.gerador(5)\n",
        "\n",
        "# Cria o arquivo txt\n",
        "CriarTxt(criartxt, 'notas.txt')\n",
        "\n",
        "#Gera Histograma\n",
        "Histograma = GerarGrafico('notas.txt')"
      ],
      "metadata": {
        "colab": {
          "base_uri": "https://localhost:8080/",
          "height": 295
        },
        "id": "jm_6GOxB38m3",
        "outputId": "0c029e6f-01cd-4c37-8901-29011a75dff9"
      },
      "execution_count": null,
      "outputs": [
        {
          "output_type": "display_data",
          "data": {
            "text/plain": [
              "<Figure size 432x288 with 1 Axes>"
            ],
            "image/png": "[encoded data removed]"
          },
          "metadata": {
            "needs_background": "light"
          }
        }
      ]
    }
  ]
}